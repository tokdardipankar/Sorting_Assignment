{
 "cells": [
  {
   "cell_type": "raw",
   "id": "4257f445-f143-495e-95a6-b936182516d5",
   "metadata": {},
   "source": [
    "Problem 1.Given an array of n numbers, give an algorithm which gives the element appearing maximum\n",
    "number of times?"
   ]
  },
  {
   "cell_type": "code",
   "execution_count": 4,
   "id": "e4bd508a-3140-4b13-8e5e-04fcf2b24608",
   "metadata": {},
   "outputs": [
    {
     "name": "stdout",
     "output_type": "stream",
     "text": [
      "2\n"
     ]
    }
   ],
   "source": [
    "#Time complexity O(n^2)\n",
    "#space complexity O(1)\n",
    "#Function to find the element with the highest frequency of occurrence in an array.\n",
    "\n",
    "def max_app_element(arr):\n",
    "    max_count = 0  # Initialize max_count to store the maximum count of an element.\n",
    "    ele = None     # Initialize ele to store the element with the maximum count.\n",
    "    \n",
    "    # Iterate through each element in the array.\n",
    "    for i in range(len(arr)):\n",
    "        ele_count = 0  # Initialize ele_count to count occurrences of the current element.\n",
    "        \n",
    "        # Iterate through the array again to compare with the current element.\n",
    "        for j in range(len(arr)):\n",
    "            # If the elements at positions i and j are the same, increment ele_count.\n",
    "            if arr[i] == arr[j]:\n",
    "                ele_count += 1\n",
    "        \n",
    "        # Update max_count and ele if the current count is greater than the maximum count.\n",
    "        if ele_count > max_count:\n",
    "            max_count = ele_count\n",
    "            ele = arr[i]\n",
    "    \n",
    "    return ele  # Return the element with the maximum count.\n",
    "\n",
    "# Example array.\n",
    "arr = [1, 2, 4, 6, 2, 6, 7, 9, 8, 1, 3, 2]\n",
    "# Print the element with the highest frequency of occurrence.\n",
    "print(max_app_element(arr))\n"
   ]
  },
  {
   "cell_type": "raw",
   "id": "3b1c9b91-c1a8-4337-80df-a07a83b4f5e9",
   "metadata": {},
   "source": [
    "Description:-\n",
    "This code defines a function max_app_element to find the element with the highest frequency of occurrence in an array.\n",
    "It initializes max_count to store the maximum count of an element and ele to store the element with the maximum count.\n",
    "The function iterates through each element in the array and counts the occurrences of each element by comparing it with every other element in the array.\n",
    "It updates max_count and ele if it finds a higher count during the iteration.\n",
    "Finally, it returns the element with the maximum count.\n",
    "The code demonstrates the function's usage by finding the element with the highest frequency in the given example array arr and printing the result."
   ]
  },
  {
   "cell_type": "code",
   "execution_count": null,
   "id": "d4b9c3c7-96fd-4ddd-8d90-4637daf4992d",
   "metadata": {},
   "outputs": [],
   "source": []
  },
  {
   "cell_type": "raw",
   "id": "3a0a8ebd-e9a0-441e-97e7-d0721fba200f",
   "metadata": {},
   "source": [
    "Problem 2 : We are given a list of n-1 integers and these integers are in the range of 1 to n . There are no\n",
    "duplicates in the list. One of the integers is missing in the list. Give an algorithm to find that element Ex:\n",
    "[1,2,4,6,3,7,8] 5 is the missing num."
   ]
  },
  {
   "cell_type": "code",
   "execution_count": 9,
   "id": "b9d04ad7-4282-4858-adce-f4ec0f0b1be8",
   "metadata": {},
   "outputs": [
    {
     "name": "stdout",
     "output_type": "stream",
     "text": [
      "5\n"
     ]
    }
   ],
   "source": [
    "#Time complexity O(n^2)\n",
    "#space complexity O(1)\n",
    "# Function to perform insertion sort on the array.\n",
    "def insertion_sort(arr):\n",
    "    # Iterate through each element starting from the second one.\n",
    "    for i in range(1, len(arr)):\n",
    "        v = arr[i]  # Store the current element.\n",
    "        j = i  # Initialize a variable to track the position to insert.\n",
    "        # Shift elements to the right until finding the correct position for the current element.\n",
    "        while j >= 1 and arr[j - 1] > v:\n",
    "            arr[j] = arr[j - 1]\n",
    "            j -= 1\n",
    "        arr[j] = v  # Insert the current element into its correct position.\n",
    "\n",
    "# Function to find the missing element in a sorted array.\n",
    "def miss_ele(arr):\n",
    "    insertion_sort(arr)  # Sort the array in ascending order.\n",
    "    # Iterate through the sorted array.\n",
    "    for i in range(len(arr)):\n",
    "        # If the current element is not equal to its expected value (i + 1), return the missing element.\n",
    "        if arr[i] != i + 1:\n",
    "            return i + 1  # Return the missing element.\n",
    "            break  # Break out of the loop.\n",
    "\n",
    "# Driver code\n",
    "arr = [1, 2, 4, 6, 3, 7, 8]  # Example array\n",
    "print(miss_ele(arr))  # Print the missing element."
   ]
  },
  {
   "cell_type": "raw",
   "id": "3315d75a-b51b-4461-bebd-00f68b83562e",
   "metadata": {},
   "source": [
    "Description:\n",
    "\n",
    "The code defines two functions: insertion_sort and miss_ele.\n",
    "insertion_sort implements the insertion sort algorithm to sort the given array in ascending order.\n",
    "miss_ele first sorts the input array using the insertion_sort function.\n",
    "Then, it iterates through the sorted array to find the missing element.\n",
    "If an element is found such that its value is not equal to its expected value (i + 1), it returns the missing element.\n",
    "The driver code initializes an example array, calls miss_ele function to find the missing element, and prints the result."
   ]
  },
  {
   "cell_type": "code",
   "execution_count": null,
   "id": "40f35769-f932-4ddb-b30b-7d10285d09b6",
   "metadata": {},
   "outputs": [],
   "source": []
  },
  {
   "cell_type": "raw",
   "id": "8e2128b0-429b-4791-97ac-5ed819ac6d88",
   "metadata": {},
   "source": [
    "Problem 3 : Given an array of n positive numbers. All numbers occurs even number of times except 1 which\n",
    "occurs odd number of times. Find that number in O(n) time and O(1) space. Ex: [1,2,3,2,3,1,3]. 3 is repeats odd\n",
    "times."
   ]
  },
  {
   "cell_type": "code",
   "execution_count": 2,
   "id": "201f7c39-e708-4b29-8997-2a778912c7df",
   "metadata": {},
   "outputs": [
    {
     "name": "stdout",
     "output_type": "stream",
     "text": [
      "3\n"
     ]
    }
   ],
   "source": [
    "#Time complexity O(n^2)\n",
    "#space complexity O(1)\n",
    "# Function definition to find the element with an odd number of occurrences in an array\n",
    "def odd_rep(arr):\n",
    "    # Iterate through each element in the array\n",
    "    for i in range(len(arr)):\n",
    "        count = 0  # Initialize a counter for occurrences of the current element\n",
    "        # Iterate through the array starting from the current element to the end\n",
    "        for j in range(i, len(arr)):\n",
    "            # If the current element matches any subsequent element, increment the counter\n",
    "            if arr[i] == arr[j]:\n",
    "                count += 1\n",
    "        # If the count of occurrences for the current element is odd, return that element\n",
    "        if count % 2 != 0:\n",
    "            return arr[i]  # Exit the loop and return the odd-occurrence element\n",
    "            break  # Break the loop after finding the odd-occurrence element\n",
    "\n",
    "# Driver code\n",
    "arr = [1, 2, 3, 2, 3, 1, 3]  # Given array\n",
    "print(odd_rep(arr))  # Print the element with an odd number of occurrences"
   ]
  },
  {
   "cell_type": "raw",
   "id": "180724fd-0e6d-4ce7-8a55-0f99ccc3e1af",
   "metadata": {},
   "source": [
    "Description:\n",
    "This Python code defines a function odd_rep to find the element with an odd number of occurrences in an array.\n",
    "The function iterates through each element of the array and counts how many times that element occurs in the array.\n",
    "If the count of occurrences for any element is odd, that element is returned.\n",
    "The driver code demonstrates the function by calling it with a sample array [1, 2, 3, 2, 3, 1, 3] and printing the result."
   ]
  },
  {
   "cell_type": "code",
   "execution_count": null,
   "id": "1f272bd2-2dd8-460b-9115-43d3663a61c8",
   "metadata": {},
   "outputs": [],
   "source": []
  },
  {
   "cell_type": "raw",
   "id": "1f985a17-09e4-4018-89df-2ecbf34da60d",
   "metadata": {},
   "source": [
    "Problem 4:Given an array of n elements. Find two elements in the array such that their sum is equal to given\n",
    "element K."
   ]
  },
  {
   "cell_type": "code",
   "execution_count": 4,
   "id": "f44d0093-a59a-40d4-a6e8-4d66d6f3bb2b",
   "metadata": {},
   "outputs": [
    {
     "name": "stdout",
     "output_type": "stream",
     "text": [
      "[1, 9]\n"
     ]
    }
   ],
   "source": [
    "#Function definition to find two elements in an array whose sum is equal to a given value, k\n",
    "def K_sum(arr, k):\n",
    "    # Iterate through each element in the array\n",
    "    for i in range(len(arr)):\n",
    "        # Nested loop to compare current element with subsequent elements\n",
    "        for j in range(i + 1, len(arr)):\n",
    "            # If the sum of current element and subsequent element equals k\n",
    "            if arr[i] + arr[j] == k:\n",
    "                return [arr[i], arr[j]]  # Return the pair of elements\n",
    "                break  # Exit the loop after finding the pair\n",
    "    return -1  # Return -1 if no pair with sum k is found\n",
    "\n",
    "# Driver code\n",
    "arr = [1, 2, 4, 6, 8, 9, 10, 14, 16, 12, 15]  # Given array\n",
    "k = 10  # Given value of k\n",
    "print(K_sum(arr, k))  # Print the pair of elements whose sum is equal to k, or -1 if no such pair is found\n"
   ]
  },
  {
   "cell_type": "raw",
   "id": "1c8d6564-977a-4f3c-b834-b0fdf98bae9f",
   "metadata": {},
   "source": [
    "Description:\n",
    "This Python code defines a function K_sum that aims to find two elements in an array whose sum is equal to a given value, k.\n",
    "The function uses nested loops to compare each element in the array with subsequent elements to find the pair with the desired sum.\n",
    "If a pair of elements with sum k is found, the function immediately returns the pair and exits the loop using a break statement.\n",
    "If no such pair is found after iterating through the entire array, the function returns -1 to indicate that no such pair exists.\n",
    "The driver code demonstrates the function by calling it with a sample array [1, 2, 4, 6, 8, 9, 10, 14, 16, 12, 15] and a value of k = 10, printing the pair of elements whose sum is equal to k, or -1 if no such pair is found."
   ]
  },
  {
   "cell_type": "code",
   "execution_count": null,
   "id": "1471167e-5ea8-4f03-b04c-9157af83501d",
   "metadata": {},
   "outputs": [],
   "source": []
  },
  {
   "cell_type": "raw",
   "id": "61e903eb-dbd4-455c-9ed4-6513444d4873",
   "metadata": {},
   "source": [
    "Problem 5 : Given an array of both positive and negative numbers, find two numbers such that their sum is\n",
    "closest to 0. Ex: [ 1 ,60 ,-10, 70, -80,85]. Ans : -80,85."
   ]
  },
  {
   "cell_type": "code",
   "execution_count": 6,
   "id": "f98f1e36-4326-4f38-9e43-85b97e5df2b9",
   "metadata": {},
   "outputs": [
    {
     "name": "stdout",
     "output_type": "stream",
     "text": [
      "(-80, 85)\n"
     ]
    }
   ],
   "source": [
    "#Time complexity O(n^2)\n",
    "#space complexity O(1)\n",
    "# Define a function named closest that takes a list arr as input\n",
    "def closest(arr):\n",
    "    # Initialize a variable c to a very large positive value\n",
    "    c = 99999999999999\n",
    "    # Initialize variables fi and si to None, these will store the closest pair\n",
    "    fi = None\n",
    "    si = None\n",
    "    \n",
    "    # Iterate through each element in the list arr\n",
    "    for i in range(len(arr)):\n",
    "        # Initialize close_val to a very large positive value\n",
    "        close_val = 999999999999999999\n",
    "        # Initialize variables f and s to None, these will store the closest pair for the current element i\n",
    "        f = None\n",
    "        s = None\n",
    "        \n",
    "        # Iterate through each element after the current element i in the list arr\n",
    "        for j in range(i + 1, len(arr)):\n",
    "            # Calculate the sum of the current element i and the element j\n",
    "            r = arr[i] + arr[j]\n",
    "            \n",
    "            # If the sum is non-negative and closer to zero than the previous closest sum\n",
    "            if r >= 0 and r < close_val:\n",
    "                # Update the closest sum, and the potential closest pair\n",
    "                close_val = r\n",
    "                f = arr[i]\n",
    "                s = arr[j]\n",
    "        \n",
    "        # If the closest sum for the current element i is smaller than the overall closest sum\n",
    "        if close_val < c:\n",
    "            # Update the overall closest sum and the closest pair\n",
    "            c = close_val\n",
    "            fi = f\n",
    "            si = s\n",
    "    \n",
    "    # Return the closest pair found\n",
    "    return fi, si\n",
    "\n",
    "# Define a list arr containing some numbers\n",
    "arr = [1, 60, -10, 70, -80, 85]\n",
    "# Call the closest function with the list arr and print the result\n",
    "print(closest(arr))\n"
   ]
  },
  {
   "cell_type": "raw",
   "id": "8b3f420b-452d-4bba-87ba-553b3c296dfa",
   "metadata": {},
   "source": [
    "Description:\n",
    "This code defines a function closest(arr) which finds the pair of numbers in the list arr whose sum is closest to zero. It iterates through each pair of elements in the list and keeps track of the pair with the closest sum.\n",
    "\n",
    "The function initializes variables to keep track of the closest sum (c), and the pair of numbers that produce this sum (fi and si). It then iterates through each element in the list and calculates the sum with every subsequent element. If a sum is found that is closer to zero than the previous closest sum, it updates the variables accordingly.\n",
    "\n",
    "Finally, the function returns the pair of numbers with the closest sum."
   ]
  },
  {
   "cell_type": "code",
   "execution_count": null,
   "id": "0b11344d-4b82-4339-9482-8969e67c8b4c",
   "metadata": {},
   "outputs": [],
   "source": []
  },
  {
   "cell_type": "raw",
   "id": "9c0ca3a9-5a82-411f-bbcd-cc00e866cb54",
   "metadata": {},
   "source": [
    "Problem 6 : Given an array of n elements . Find three elements such that their sum is equal to the given\n",
    "number."
   ]
  },
  {
   "cell_type": "code",
   "execution_count": 6,
   "id": "4656ebd0-5b70-47e1-9967-66d73971812b",
   "metadata": {},
   "outputs": [
    {
     "name": "stdout",
     "output_type": "stream",
     "text": [
      "[3, 7, 7]\n"
     ]
    }
   ],
   "source": [
    "#Time complexity O(n^2)\n",
    "#space complexity O(1)\n",
    "def Three_sum(arr, k):\n",
    "    # Define a function named Three_sum that takes an array (arr) and an integer (k) as input\n",
    "    for i in range(len(arr)):\n",
    "        # Iterate through each element in the array\n",
    "        l = i + 1\n",
    "        # Set left pointer to the next index of the current element\n",
    "        r = len(arr) - 1\n",
    "        # Set right pointer to the last index of the array\n",
    "        while l < r:\n",
    "            # While left pointer is less than right pointer\n",
    "            su = arr[i] + arr[l] + arr[r]\n",
    "            # Calculate the sum of current triplet\n",
    "            if su == k:\n",
    "                # If the sum equals k\n",
    "                return [arr[i], arr[l], arr[r]]\n",
    "                # Return the triplet that sums up to k\n",
    "                break\n",
    "                # Break out of the loop since we found the triplet\n",
    "            l += 1\n",
    "            # Increment left pointer\n",
    "            r -= 1\n",
    "            # Decrement right pointer\n",
    "    return -1\n",
    "    # If no such triplet found, return -1\n",
    "\n",
    "arr = [5, 3, 4, 8, 7, 9, 5, 3, 0, 4, 7, 9, 8]\n",
    "# Define an array 'arr' with some values\n",
    "k = 17\n",
    "# Define the target sum 'k'\n",
    "print(Three_sum(arr, k))\n",
    "# Print the result of calling the Three_sum function with arr and k as arguments"
   ]
  },
  {
   "cell_type": "raw",
   "id": "f489723c-af17-4c42-967e-6fa7d575ada2",
   "metadata": {},
   "source": [
    "The function Three_sum aims to find a triplet (three elements) in the given array arr whose sum equals the given target integer k.\n",
    "It starts by iterating through each element of the array as the potential starting element of the triplet.\n",
    "Inside the loop, it initializes two pointers (l and r) pointing to the next element and the last element of the array respectively, forming a two-pointer approach.\n",
    "While the left pointer is less than the right pointer, it calculates the sum of the triplet.\n",
    "If the sum equals the target (k), it returns the triplet.\n",
    "If no such triplet is found after iterating through all elements, it returns -1.\n",
    "The given array arr and the target sum k are defined, and then the function is called with these values, and the result is printed."
   ]
  },
  {
   "cell_type": "code",
   "execution_count": null,
   "id": "795ce431-960b-48b6-b826-e8229631d31c",
   "metadata": {},
   "outputs": [],
   "source": []
  },
  {
   "cell_type": "raw",
   "id": "f6b78354-5352-4d89-80d3-d66fc4af0a9b",
   "metadata": {},
   "source": [
    "Problem 7 : Given an array of n elements . Find three elements i, j, k in the array such that\n",
    "i * i + j * j = k*k."
   ]
  },
  {
   "cell_type": "code",
   "execution_count": 16,
   "id": "7c4d5c90-9672-408e-bdf3-e1ce501b560e",
   "metadata": {},
   "outputs": [
    {
     "name": "stdout",
     "output_type": "stream",
     "text": [
      "i=6, j=8, k=10\n"
     ]
    }
   ],
   "source": [
    "#Time complexity O(n^3)\n",
    "#space complexity O(1)\n",
    "def fin_the_ele(arr):\n",
    "    # This function takes an array 'arr' as input and aims to find three elements i, j, k\n",
    "    # such that i^2 + j^2 = k^2.\n",
    "    for i in range(len(arr)):  # Iterating through array elements as potential i\n",
    "        for j in range(i + 1, len(arr)):  # Iterating through array elements as potential j\n",
    "            for k in range(j + 1, len(arr)):  # Iterating through array elements as potential k\n",
    "                if (arr[i] ** 2) + (arr[j] ** 2) == arr[k] ** 2:  # Checking if the condition is met\n",
    "                    return (f\"i={arr[i]}, j={arr[j]}, k={arr[k]}\")  # Returning the triplet if found\n",
    "                    break  # Exiting the loop once the triplet is found\n",
    "    return -1  # Returning -1 if no such triplet is found\n",
    "\n",
    "# Driver code\n",
    "arr = [4, 2, 6, 8, 10, 14, 12, 11, 5, 3, 2, 0]  # Sample array\n",
    "print(fin_the_ele(arr))  # Calling the function and printing the result"
   ]
  },
  {
   "cell_type": "raw",
   "id": "5c6b9996-4817-4d27-9c27-ffe0712e5186",
   "metadata": {},
   "source": [
    "Description:\n",
    "\n",
    "The function fin_the_ele() is defined, which takes an array arr as input.\n",
    "Three nested for loops are used to iterate over all possible combinations of three elements from the array (i, j, k).\n",
    "Inside the innermost loop, it checks if the condition i^2 + j^2 = k^2 is satisfied.\n",
    "If the condition is met, it returns the triplet (i, j, k) as a string.\n",
    "The break statement is used to exit the innermost loop once a triplet is found.\n",
    "If no triplet is found after all iterations, it returns -1.\n",
    "Finally, a sample array arr is defined, and the function is called with this array as input, and the result is printed.\n",
    "This code essentially implements a brute-force approach to find the desired triplet in the given array."
   ]
  },
  {
   "cell_type": "code",
   "execution_count": null,
   "id": "3f2e6c9f-e7ff-4c24-97ef-d1e13d906e8c",
   "metadata": {},
   "outputs": [],
   "source": []
  },
  {
   "cell_type": "raw",
   "id": "81319dc1-5f64-49c9-a004-da9aa3f3304c",
   "metadata": {},
   "source": [
    "Problem 8 : An element is a majority if it appears more than n/2 times. Give an algorithm takes an array of n\n",
    "element as argument and identifies a majority (if it exists)."
   ]
  },
  {
   "cell_type": "code",
   "execution_count": 7,
   "id": "faf3ed36-7114-4f9a-a408-8e673313d9ef",
   "metadata": {},
   "outputs": [
    {
     "name": "stdout",
     "output_type": "stream",
     "text": [
      "2\n"
     ]
    }
   ],
   "source": [
    "##Time complexity O(n^2)\n",
    "##space complexity O(1)\n",
    "##Method defination of majority elements in the array \n",
    "def majority(arr):\n",
    "    # Iterate through each element in the array\n",
    "    for i in range(len(arr)):\n",
    "        element = arr[i]  # Current element under consideration\n",
    "        count = 0  # Initialize count for the current element\n",
    "\n",
    "        # Count how many times the current element appears in the array\n",
    "        for j in range(len(arr)):\n",
    "            if arr[i] == arr[j]:\n",
    "                count += 1\n",
    "\n",
    "        # If the count of the current element is greater than half the length of the array,\n",
    "        # it is considered a majority element, so return it\n",
    "        if count > len(arr) / 2:\n",
    "            return element\n",
    "            break\n",
    "    # If no majority element is found, return -1\n",
    "    return -1\n",
    "\n",
    "# Example usage\n",
    "arr = [1, 2, 4, 2, 2, 8, 2, 6, 2, 4, 2, 4, 2, 8, 2]\n",
    "print(majority(arr))  # Output: 2 (since 2 appears more than half of the total elements)\n"
   ]
  },
  {
   "cell_type": "raw",
   "id": "306bf451-b28d-49af-add9-f3f34d49893a",
   "metadata": {},
   "source": [
    "Description\n",
    "This code defines a function majority(arr) that aims to find the majority element in a given array. It iterates through each element in the array and counts how many times each element appears. If an element appears more than half the length of the array, it is considered the majority element and returned. If no majority element is found, -1 is returned. The example usage demonstrates finding the majority element in a specific array."
   ]
  },
  {
   "cell_type": "code",
   "execution_count": null,
   "id": "0b4d7e92-5bc8-417a-a3f2-abc7c81d7036",
   "metadata": {},
   "outputs": [],
   "source": []
  },
  {
   "cell_type": "raw",
   "id": "ae4a95d3-c424-4c1a-9a36-bdd3f8814e9a",
   "metadata": {},
   "source": [
    "Problem 9 : Given n × n matrix, and in each row all 1’s are followed by 0’s. Find the row with the maximum\n",
    "number of 0’s."
   ]
  },
  {
   "cell_type": "code",
   "execution_count": 8,
   "id": "20bb63b1-6047-44b9-8bbf-463cd0d6a944",
   "metadata": {},
   "outputs": [
    {
     "name": "stdout",
     "output_type": "stream",
     "text": [
      "-1\n"
     ]
    }
   ],
   "source": [
    "#Time complexity O(n^2)\n",
    "#Space complexity O(1)\n",
    "# Function to find the row with the maximum number of zeros\n",
    "def max_zero_row(mat):\n",
    "    # Initialize variables to store the maximum number of zeros and the index of the corresponding row\n",
    "    max_zero_count = 0\n",
    "    max_zero_row_ind = -1\n",
    "    \n",
    "    # Iterate through each row of the matrix\n",
    "    for i in range(len(mat)):\n",
    "        # Initialize a variable to count the number of zeros in the current row\n",
    "        zero_count = 0\n",
    "        # Iterate through each element of the current row\n",
    "        for j in range(len(mat[i])):\n",
    "            # If the element is zero, increment the zero count\n",
    "            if mat[i][j] == 0:\n",
    "                zero_count += 1\n",
    "            # If the element is not zero, exit the loop as the 1's are followed by 0's\n",
    "            else:\n",
    "                break\n",
    "        # Update the maximum zero count and corresponding row index if the current row has more zeros\n",
    "        if zero_count > max_zero_count:\n",
    "            max_zero_count = zero_count\n",
    "            max_zero_row_ind = i\n",
    "    \n",
    "    # Return the index of the row with the maximum number of zeros\n",
    "    return max_zero_row_ind\n",
    "\n",
    "# Example matrix\n",
    "mat = [\n",
    "    [1, 1, 1, 0, 0],\n",
    "    [1, 1, 0, 0, 0],\n",
    "    [1, 1, 1, 1, 0],\n",
    "    [1, 0, 0, 0, 0],\n",
    "    [1, 1, 1, 1, 0]\n",
    "]\n",
    "\n",
    "# Call the function and print the result\n",
    "print(max_zero_row(mat))\n"
   ]
  },
  {
   "cell_type": "raw",
   "id": "dcf301b8-d2d2-4aa8-8fc8-660a6aadb81a",
   "metadata": {},
   "source": [
    "Description:\n",
    "\n",
    "The function max_zero_row takes a matrix mat as input.\n",
    "It initializes max_zero_count to store the maximum number of zeros found in a row, and max_zero_row_ind to store the index of the row with the maximum zeros. Initially, both are set to 0 and -1 respectively.\n",
    "It iterates through each row of the matrix.\n",
    "For each row, it iterates through each element to count the number of zeros encountered consecutively from the start of the row.\n",
    "If it encounters a non-zero element, it breaks the inner loop, assuming that the 1's are followed by 0's.\n",
    "After counting zeros in a row, it compares the count with the maximum count found so far and updates max_zero_count and max_zero_row_ind accordingly.\n",
    "Finally, it returns the index of the row with the maximum number of zeros."
   ]
  },
  {
   "cell_type": "code",
   "execution_count": null,
   "id": "f41cafbd-b0f6-4c20-8116-c9abbc0d6cb8",
   "metadata": {},
   "outputs": [],
   "source": []
  },
  {
   "cell_type": "raw",
   "id": "8b7b3349-65bc-4d93-8a09-77f9f3c52d05",
   "metadata": {},
   "source": [
    "Problem 10 : Sort an array of 0’s, 1’s and 2’s [or R’s, G’s and B’s]: Given an array A[] consisting of 0’s, 1’s and\n",
    "2’s, give an algorithm for sorting A[].The algorithm should put all 0’s first, then all 1’s and finally all 2’s at the\n",
    "end. Example Input = {0,1,1,0,1,2,1,2,0,0,0,1}, Output = {0,0,0,0,0,1,1,1,1,1,2,2}"
   ]
  },
  {
   "cell_type": "code",
   "execution_count": 10,
   "id": "22d13773-eed9-47e0-a059-febac45ba82f",
   "metadata": {},
   "outputs": [
    {
     "name": "stdout",
     "output_type": "stream",
     "text": [
      "[0, 0, 0, 0, 0, 1, 1, 1, 1, 1, 2, 2]\n"
     ]
    }
   ],
   "source": [
    "#Time complexity O(n)\n",
    "#Space complexity O(1)\n",
    "def RBG_sort(arr):\n",
    "    # Initialize pointers for Red (R), Green (G), and Blue (B) colors\n",
    "    R = 0\n",
    "    G = 0\n",
    "    B = len(arr) - 1  # Start Blue pointer at the end of the array\n",
    "    \n",
    "    # Iterate until the Green pointer meets or exceeds the Blue pointer\n",
    "    while G <= B:\n",
    "        if arr[G] == 0:  # If the current element is red\n",
    "            # Swap the current element with the element at the Red pointer\n",
    "            arr[G], arr[R] = arr[R], arr[G]\n",
    "            R += 1  # Move the Red pointer to the right\n",
    "            G += 1  # Move the Green pointer to the right\n",
    "        elif arr[G] == 1:  # If the current element is green\n",
    "            G += 1  # Move the Green pointer to the right\n",
    "        else:  # If the current element is blue\n",
    "            # Swap the current element with the element at the Blue pointer\n",
    "            arr[B], arr[G] = arr[G], arr[B]\n",
    "            B -= 1  # Move the Blue pointer to the left\n",
    "\n",
    "# Test the function with a sample array\n",
    "arr = [0, 1, 1, 0, 1, 2, 1, 2, 0, 0, 0, 1]\n",
    "RBG_sort(arr)\n",
    "print(arr)  # Print the sorted array"
   ]
  },
  {
   "cell_type": "raw",
   "id": "567e87af-364a-4cf7-8ff5-d3ccaf797771",
   "metadata": {},
   "source": [
    "Description:\n",
    "The function RBG_sort is defined to sort an array containing integers representing colors, where 0 represents Red, 1 represents Green, and 2 represents Blue.\n",
    "Three pointers R, G, and B are initialized to keep track of the positions of the Red, Green, and Blue elements respectively.\n",
    "The function uses a single pass through the array to sort it in place.\n",
    "Within the while loop, it checks the color of the element pointed to by G:\n",
    "If it's red (0), it swaps it with the element pointed to by R and increments both R and G.\n",
    "If it's green (1), it simply increments G.\n",
    "If it's blue (2), it swaps it with the element pointed to by B and decrements B.\n",
    "The loop continues until G surpasses B, ensuring all elements have been properly sorted.\n",
    "Finally, the sorted array is printed.\n",
    "Overall, this algorithm achieves linear time complexity O(n), where n is the number of elements in the array, as it iterates through the array only once."
   ]
  },
  {
   "cell_type": "code",
   "execution_count": null,
   "id": "b2e6983d-8e03-48d0-aba6-f988a2a3a572",
   "metadata": {},
   "outputs": [],
   "source": []
  }
 ],
 "metadata": {
  "kernelspec": {
   "display_name": "Python 3 (ipykernel)",
   "language": "python",
   "name": "python3"
  },
  "language_info": {
   "codemirror_mode": {
    "name": "ipython",
    "version": 3
   },
   "file_extension": ".py",
   "mimetype": "text/x-python",
   "name": "python",
   "nbconvert_exporter": "python",
   "pygments_lexer": "ipython3",
   "version": "3.10.8"
  }
 },
 "nbformat": 4,
 "nbformat_minor": 5
}
